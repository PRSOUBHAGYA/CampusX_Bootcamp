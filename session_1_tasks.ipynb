{
  "nbformat": 4,
  "nbformat_minor": 0,
  "metadata": {
    "colab": {
      "provenance": [],
      "include_colab_link": true
    },
    "kernelspec": {
      "name": "python3",
      "display_name": "Python 3"
    },
    "language_info": {
      "name": "python"
    }
  },
  "cells": [
    {
      "cell_type": "markdown",
      "metadata": {
        "id": "view-in-github",
        "colab_type": "text"
      },
      "source": [
        "<a href=\"https://colab.research.google.com/github/PRSOUBHAGYA/CampusX_Bootcamp/blob/main/session_1_tasks.ipynb\" target=\"_parent\"><img src=\"https://colab.research.google.com/assets/colab-badge.svg\" alt=\"Open In Colab\"/></a>"
      ]
    },
    {
      "cell_type": "markdown",
      "source": [
        "# Task : Session 1\n",
        "Solve these questions own your own and try to test yourself what you have learned in the session.\n",
        "\n",
        "Happy Learning!"
      ],
      "metadata": {
        "id": "A05OG15VqOPF"
      }
    },
    {
      "cell_type": "markdown",
      "source": [
        "### Q1 :- Print the given strings as per stated format.\n",
        "\n",
        "**Given strings**: \n",
        "```\n",
        "\"Data\" \"Science\" \"Mentorship\" \"Program\" \n",
        "\"By\" \"CampusX\"\n",
        "```\n",
        "**Output**: \n",
        "``` \n",
        "Data-Science-Mentorship-Program-started-By-CampusX\n",
        "```\n",
        "\n",
        "Concept- [Seperator and End]"
      ],
      "metadata": {
        "id": "2doIXf8bqe9_"
      }
    },
    {
      "cell_type": "code",
      "source": [
        "# Write your code here\n",
        "print(\"Data\",\"Science\",\"Mentorship\", \"Program\" ,\n",
        "\"By\" ,\"CampusX\",sep='-')\n",
        "print(\"Data\",end='-')\n",
        "print(\"Science\",end='-')\n",
        "print(\"Mentorship\",end='-')\n",
        "print(\"Program\",end='-')\n",
        "print(\"By\",end='-')\n",
        "print(\"CampusX\")"
      ],
      "metadata": {
        "id": "-em6d3KErDtp",
        "outputId": "7aab0a30-c59f-4cb7-d966-00a93b1f504c",
        "colab": {
          "base_uri": "https://localhost:8080/"
        }
      },
      "execution_count": 4,
      "outputs": [
        {
          "output_type": "stream",
          "name": "stdout",
          "text": [
            "Data-Science-Mentorship-Program-By-CampusX\n",
            "Data-Science-Mentorship-Program-By-CampusX\n"
          ]
        }
      ]
    },
    {
      "cell_type": "markdown",
      "source": [
        "### Q2:- Write a program that will convert celsius value to fahrenheit."
      ],
      "metadata": {
        "id": "1KUpN7ZTrC3_"
      }
    },
    {
      "cell_type": "code",
      "source": [
        "# Write your code here\n",
        "tempincel = int(input(\"Enter temperature in celcius:\"))\n",
        "tempinf = (tempincel*1.8)+32\n",
        "print(tempinf)"
      ],
      "metadata": {
        "id": "yxKYhYQiqWfj",
        "outputId": "d924601d-4a2e-4603-e999-75085b8ac42c",
        "colab": {
          "base_uri": "https://localhost:8080/"
        }
      },
      "execution_count": 5,
      "outputs": [
        {
          "output_type": "stream",
          "name": "stdout",
          "text": [
            "Enter temperature in celcius:37\n",
            "98.60000000000001\n"
          ]
        }
      ]
    },
    {
      "cell_type": "markdown",
      "source": [
        "### Q3:- Take 2 numbers as input from the user.Write a program to swap the numbers without using any special python syntax."
      ],
      "metadata": {
        "id": "RLrOBBJurLB2"
      }
    },
    {
      "cell_type": "code",
      "source": [
        "# Write your code here\n",
        "firstnum = int(input(\"enter 1st num:\"))\n",
        "secondnum = int(input(\"enter 2nd num:\"))\n",
        "temp=firstnum\n",
        "firstnum=secondnum\n",
        "secondnum=temp\n",
        "print(\"first and second are:\",firstnum,secondnum)"
      ],
      "metadata": {
        "id": "yPn7if0TrJ4F",
        "outputId": "7ff4af14-946a-4871-fd6e-19c894d2476c",
        "colab": {
          "base_uri": "https://localhost:8080/"
        }
      },
      "execution_count": 7,
      "outputs": [
        {
          "output_type": "stream",
          "name": "stdout",
          "text": [
            "enter 1st num:10000\n",
            "enter 2nd num:1\n",
            "first and second are: 1 10000\n"
          ]
        }
      ]
    },
    {
      "cell_type": "markdown",
      "source": [
        "### Q4:- Write a program to find the euclidean distance between two coordinates.Take both the coordinates from the user as input.\n"
      ],
      "metadata": {
        "id": "waLCP1bjr7ML"
      }
    },
    {
      "cell_type": "code",
      "source": [
        "# Write your code here\n",
        "x1 = int(input(\"Enter x1:\"))\n",
        "y1 = int(input(\"Enter y1:\"))\n",
        "x2 = int(input(\"Enter x2:\"))\n",
        "y2 = int(input(\"Enter y2:\"))\n",
        "\n",
        "result = ((x1-x2)**2 + (y1-y2)**2)**0.5\n",
        "print(result)"
      ],
      "metadata": {
        "id": "Pl1Sv-xnrxnH",
        "outputId": "d86c0979-1d35-48b7-93e2-1b941bd02997",
        "colab": {
          "base_uri": "https://localhost:8080/"
        }
      },
      "execution_count": 9,
      "outputs": [
        {
          "output_type": "stream",
          "name": "stdout",
          "text": [
            "Enter x1:0\n",
            "Enter y1:0\n",
            "Enter x2:5\n",
            "Enter y2:5\n",
            "7.0710678118654755\n"
          ]
        }
      ]
    },
    {
      "cell_type": "markdown",
      "source": [
        "### Q5:- Write a program to find the simple interest when the value of principle,rate of interest and time period is provided by the user.\n"
      ],
      "metadata": {
        "id": "VLrhg-FRsHjR"
      }
    },
    {
      "cell_type": "code",
      "source": [
        "# Write your code here\n",
        "p = float(input(\"enter principal amount:\"))\n",
        "r = float(input(\"enter interest rate:\"))\n",
        "t = float(input(\"enter loan time in years:\"))\n",
        "\n",
        "si = (p*t*r)/100\n",
        "\n",
        "print(si)"
      ],
      "metadata": {
        "id": "s40DlReZsTmY",
        "outputId": "3a8d1e1e-e7e7-445c-c873-54a308c8cd59",
        "colab": {
          "base_uri": "https://localhost:8080/"
        }
      },
      "execution_count": 10,
      "outputs": [
        {
          "output_type": "stream",
          "name": "stdout",
          "text": [
            "enter principal amount:5000\n",
            "enter interest rate:5\n",
            "enter loan time in years:.04\n",
            "10.0\n"
          ]
        }
      ]
    },
    {
      "cell_type": "markdown",
      "source": [
        "### Q6:- Write a program that will tell the number of dogs and chicken are there when the user will provide the value of total heads and legs.\n",
        "\n",
        "For example:\n",
        "Input:\n",
        "heads -> 4\n",
        "legs -> 12\n",
        "<br>\n",
        "Output:\n",
        "dogs -> 2\n",
        "chicken -> 2\n",
        "\n",
        "\n",
        "\n"
      ],
      "metadata": {
        "id": "LMy0BTUktYKa"
      }
    },
    {
      "cell_type": "code",
      "source": [
        "# Write your code here\n"
      ],
      "metadata": {
        "id": "XSBvJoA4tXaG"
      },
      "execution_count": null,
      "outputs": []
    },
    {
      "cell_type": "markdown",
      "source": [
        "### Q7:- Write a program to find the sum of squares of first n natural numbers where n will be provided by the user."
      ],
      "metadata": {
        "id": "gJ7C5kZYt4BP"
      }
    },
    {
      "cell_type": "code",
      "source": [
        "# Write your code here\n",
        "n = int(input(\"Enter N value:\"))\n",
        "s=0\n",
        "for i in range(1,n+1):\n",
        "  s = s+(i**2)\n",
        "print(s)\n"
      ],
      "metadata": {
        "id": "_tHsmEHzt2nX",
        "outputId": "2a8d54e0-9b72-4b1a-fc45-fde8a63fe27c",
        "colab": {
          "base_uri": "https://localhost:8080/"
        }
      },
      "execution_count": 12,
      "outputs": [
        {
          "output_type": "stream",
          "name": "stdout",
          "text": [
            "Enter N value:3\n",
            "14\n"
          ]
        }
      ]
    },
    {
      "cell_type": "markdown",
      "source": [
        "### Q8:- Given the first 2 terms of an Arithmetic Series.Find the Nth term of the series. Assume all inputs are provided by the user."
      ],
      "metadata": {
        "id": "FHrMM7g-yG1h"
      }
    },
    {
      "cell_type": "code",
      "source": [
        "# Write your code here\n",
        "a1 = int(input(\"First Number:\"))\n",
        "a2 = int(input(\"Second Number:\"))\n",
        "d = a2-a1\n",
        "n = int(input(\"Enter N value:\"))\n",
        "nthvalue = a1+(n-1)*d\n",
        "print(nthvalue)"
      ],
      "metadata": {
        "id": "go4_kmZmyVSx",
        "outputId": "7c1fb5c8-59ac-4d79-f6ee-8ad07ff1ea4e",
        "colab": {
          "base_uri": "https://localhost:8080/"
        }
      },
      "execution_count": 14,
      "outputs": [
        {
          "output_type": "stream",
          "name": "stdout",
          "text": [
            "First Number:1\n",
            "Second Number:5\n",
            "Enter N value:3\n",
            "9\n"
          ]
        }
      ]
    },
    {
      "cell_type": "markdown",
      "source": [
        "### Q9:- Given 2 fractions, find the sum of those 2 fractions.Take the numerator and denominator values of the fractions from the user."
      ],
      "metadata": {
        "id": "QgyRX_es1oum"
      }
    },
    {
      "cell_type": "code",
      "source": [
        "# Write your code here\n",
        "n1 = int(input(\"Enter 1st numerator:\"))\n",
        "d1 = int(input(\"Enter 1st denominator:\"))\n",
        "\n",
        "n2 = int(input(\"Enter 2nd numerator:\"))\n",
        "d2 = int(input(\"Enter 2nd denominator:\"))\n",
        "\n",
        "result = (n1/d1)+(n2/d2)\n",
        "print(result)"
      ],
      "metadata": {
        "id": "X05xqFS1yW16",
        "outputId": "b96c931e-ca93-4d27-808f-440c9c4ab13f",
        "colab": {
          "base_uri": "https://localhost:8080/"
        }
      },
      "execution_count": 15,
      "outputs": [
        {
          "output_type": "stream",
          "name": "stdout",
          "text": [
            "Enter 1st numerator:1\n",
            "Enter 1st denominator:2\n",
            "Enter 2nd numerator:4\n",
            "Enter 2nd denominator:8\n",
            "1.0\n"
          ]
        }
      ]
    },
    {
      "cell_type": "markdown",
      "source": [
        "### Q10:- Given the height, width and breadth of a milk tank, you have to find out how many glasses of milk can be obtained? Assume all the inputs are provided by the user.\n",
        "\n",
        "\n",
        "\n",
        "Input:<br>\n",
        "Dimensions of the milk tank<br>\n",
        "H = 20cm, L = 20cm, B = 20cm\n",
        "<br><br>\n",
        "Dimensions of the glass<br>\n",
        "h = 3cm, r = 1cm"
      ],
      "metadata": {
        "id": "eaql38ln13u7"
      }
    },
    {
      "cell_type": "code",
      "source": [
        "# Write your code here\n",
        "milkheight = int(input(\"Enter Height of Milktank:\"))\n",
        "milklength = int(input(\"Enter length of Milktank:\"))\n",
        "milkbredth = int(input(\"Enter Bredth of Milktank:\"))\n",
        "\n",
        "glassheight = int(input(\"Enter Height of glass:\"))\n",
        "glassradius = int(input(\"Enter radius of glass:\"))\n",
        "\n",
        "areamilktank = milkheight*milklength*milkbredth\n",
        "areaglass = 2*(22/7)*glassheight + (22/7)*(glassradius**2)*glassheight\n",
        "\n",
        "result = areamilktank/areaglass"
      ],
      "metadata": {
        "id": "FePZqno74eWv",
        "outputId": "b96314e5-fc48-427c-fbc1-adecbdbc2d0b",
        "colab": {
          "base_uri": "https://localhost:8080/"
        }
      },
      "execution_count": 16,
      "outputs": [
        {
          "name": "stdout",
          "output_type": "stream",
          "text": [
            "Enter Height of Milktank:20\n",
            "Enter length of Milktank:20\n",
            "Enter Bredth of Milktank:20\n",
            "Enter Height of glass:3\n",
            "Enter radius of glass:1\n"
          ]
        }
      ]
    },
    {
      "cell_type": "code",
      "source": [
        "result"
      ],
      "metadata": {
        "id": "G6dA5YRwmwjq",
        "outputId": "13b7af33-2139-4f42-a061-4813a35e8cbb",
        "colab": {
          "base_uri": "https://localhost:8080/"
        }
      },
      "execution_count": 17,
      "outputs": [
        {
          "output_type": "execute_result",
          "data": {
            "text/plain": [
              "282.82828282828285"
            ]
          },
          "metadata": {},
          "execution_count": 17
        }
      ]
    },
    {
      "cell_type": "code",
      "source": [],
      "metadata": {
        "id": "WevwhFhVm2e0"
      },
      "execution_count": null,
      "outputs": []
    }
  ]
}